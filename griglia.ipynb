{
 "cells": [
  {
   "cell_type": "code",
   "execution_count": 1,
   "metadata": {},
   "outputs": [],
   "source": [
    "import matplotlib.pyplot as plt\n",
    "import numpy as np\n",
    "\n",
    "def pixel_grid(input_string, dim=3):\n",
    "    \n",
    "    if len(input_string) > dim**2:\n",
    "        print('The input string is too long. Please enter a string of length <= {}'.format(dim**2))\n",
    "        \n",
    "    # Create a dimxdim grid\n",
    "    grid = [[0 for _ in range(dim)] for _ in range(dim)]\n",
    "    \n",
    "    # Loop through each character in the input string and color the corresponding cell in the grid\n",
    "    for i, char in enumerate(input_string):\n",
    "        row = i // dim\n",
    "        col = i % dim\n",
    "        if char == '0':\n",
    "            grid[row][col] = 1\n",
    "    \n",
    "    # Display the grid\n",
    "    plt.imshow(grid, cmap='binary')\n",
    "    ax = plt.gca()\n",
    "\n",
    "    # Major ticks\n",
    "    ax.set_xticks(np.arange(0, dim, 1))\n",
    "    ax.set_yticks(np.arange(0, dim, 1))\n",
    "\n",
    "    # Labels for major ticks\n",
    "    ax.set_xticklabels(np.arange(0, dim, 1))\n",
    "    ax.set_yticklabels(np.arange(0, dim, 1))\n",
    "\n",
    "    # Minor ticks\n",
    "    ax.set_xticks(np.arange(-.5, dim, 1), minor=True)\n",
    "    ax.set_yticks(np.arange(-.5, dim, 1), minor=True)\n",
    "\n",
    "    # Gridlines based on minor ticks\n",
    "    ax.grid(which='minor', color='black', linestyle='-', linewidth=2)\n",
    "\n",
    "    # Remove minor ticks\n",
    "    ax.tick_params(which='minor', bottom=False, left=False)\n",
    "    ax.tick_params(top=True, bottom=False, labeltop=True, labelbottom=False)\n",
    "    \n",
    "def color_grid(input_rbg, dim=3):\n",
    "    \n",
    "  \n",
    "   \n",
    "    \n",
    "    # Display the grid\n",
    "    plt.imshow(input_rbg)\n",
    "    ax = plt.gca()\n",
    "\n",
    "    # # Major ticks\n",
    "    ax.set_xticks(np.arange(0, dim, 1))\n",
    "    ax.set_yticks(np.arange(0, dim, 1))\n",
    "\n",
    "    # # Labels for major ticks\n",
    "    ax.set_xticklabels(np.arange(0, dim, 1))\n",
    "    ax.set_yticklabels(np.arange(0, dim, 1))\n",
    "\n",
    "    # # Minor ticks\n",
    "    ax.set_xticks(np.arange(-.5, dim, 1), minor=True)\n",
    "    ax.set_yticks(np.arange(-.5, dim, 1), minor=True)\n",
    "\n",
    "    # # Gridlines based on minor ticks\n",
    "    ax.grid(which='minor', color='black', linestyle='-', linewidth=2)\n",
    "\n",
    "    # # Remove minor ticks\n",
    "    ax.tick_params(which='minor', bottom=False, left=False)\n",
    "    ax.tick_params(top=True, bottom=False, labeltop=True, labelbottom=False)\n",
    "    \n",
    "def gray_grid(input_gray, dim=3):\n",
    "    \n",
    "  \n",
    "   \n",
    "    \n",
    "    # Display the grid\n",
    "    plt.imshow(input_gray,cmap='gray')\n",
    "    ax = plt.gca()\n",
    "\n",
    "    # # Major ticks\n",
    "    ax.set_xticks(np.arange(0, dim, 1))\n",
    "    ax.set_yticks(np.arange(0, dim, 1))\n",
    "\n",
    "    # # Labels for major ticks\n",
    "    ax.set_xticklabels(np.arange(0, dim, 1))\n",
    "    ax.set_yticklabels(np.arange(0, dim, 1))\n",
    "\n",
    "    # # Minor ticks\n",
    "    ax.set_xticks(np.arange(-.5, dim, 1), minor=True)\n",
    "    ax.set_yticks(np.arange(-.5, dim, 1), minor=True)\n",
    "\n",
    "    # # Gridlines based on minor ticks\n",
    "    ax.grid(which='minor', color='black', linestyle='-', linewidth=2)\n",
    "\n",
    "    # # Remove minor ticks\n",
    "    ax.tick_params(which='minor', bottom=False, left=False)\n",
    "    ax.tick_params(top=True, bottom=False, labeltop=True, labelbottom=False)"
   ]
  },
  {
   "cell_type": "code",
   "execution_count": 5,
   "metadata": {},
   "outputs": [
    {
     "data": {
      "image/png": "[encoded data removed]",
      "text/plain": [
       "<Figure size 432x288 with 1 Axes>"
      ]
     },
     "metadata": {
      "needs_background": "light"
     },
     "output_type": "display_data"
    }
   ],
   "source": [
    "input_b_w=\"101101110\"\n",
    "pixel_grid(input_b_w)"
   ]
  },
  {
   "cell_type": "code",
   "execution_count": 3,
   "metadata": {},
   "outputs": [
    {
     "data": {
      "image/png": "[encoded data removed]",
      "text/plain": [
       "<Figure size 432x288 with 1 Axes>"
      ]
     },
     "metadata": {
      "needs_background": "light"
     },
     "output_type": "display_data"
    }
   ],
   "source": [
    "input_gray=[[100,200,0],[255,67,198],[200,250,111]]\n",
    "gray_grid(input_gray)"
   ]
  },
  {
   "cell_type": "code",
   "execution_count": 4,
   "metadata": {},
   "outputs": [
    {
     "data": {
      "image/png": "[encoded data removed]",
      "text/plain": [
       "<Figure size 432x288 with 1 Axes>"
      ]
     },
     "metadata": {
      "needs_background": "light"
     },
     "output_type": "display_data"
    }
   ],
   "source": [
    "input_rgb=[\n",
    "        [[255,0,0],[0,0,0],[255,255,255]],\n",
    "        [[0,0,255],[0,255,0],[100,100,100]],\n",
    "        [[0,255,0],[0,120,120],[0,255,255]]\n",
    "        ]\n",
    "\n",
    "color_grid(input_rgb, dim=3)"
   ]
  }
 ],
 "metadata": {
  "kernelspec": {
   "display_name": "python39",
   "language": "python",
   "name": "python3"
  },
  "language_info": {
   "codemirror_mode": {
    "name": "ipython",
    "version": 3
   },
   "file_extension": ".py",
   "mimetype": "text/x-python",
   "name": "python",
   "nbconvert_exporter": "python",
   "pygments_lexer": "ipython3",
   "version": "3.9.13"
  }
 },
 "nbformat": 4,
 "nbformat_minor": 2
}
